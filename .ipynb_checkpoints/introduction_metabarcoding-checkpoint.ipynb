{
 "cells": [
  {
   "cell_type": "markdown",
   "id": "d02597e6-6f87-4c05-83fb-57a0573c9ba9",
   "metadata": {},
   "source": [
    "# DADA2"
   ]
  },
  {
   "cell_type": "code",
   "execution_count": null,
   "id": "b803610d-8d7b-43fa-b2ab-8b805a9081e3",
   "metadata": {},
   "outputs": [],
   "source": []
  }
 ],
 "metadata": {
  "kernelspec": {
   "display_name": "dada2_env",
   "language": "python",
   "name": "dada2_env"
  },
  "language_info": {
   "codemirror_mode": {
    "name": "ipython",
    "version": 3
   },
   "file_extension": ".py",
   "mimetype": "text/x-python",
   "name": "python",
   "nbconvert_exporter": "python",
   "pygments_lexer": "ipython3",
   "version": "3.9.20"
  }
 },
 "nbformat": 4,
 "nbformat_minor": 5
}
