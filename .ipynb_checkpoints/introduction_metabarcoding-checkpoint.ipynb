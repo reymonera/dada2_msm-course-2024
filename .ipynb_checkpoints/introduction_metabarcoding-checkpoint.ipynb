{
 "cells": [
  {
   "cell_type": "markdown",
   "id": "d02597e6-6f87-4c05-83fb-57a0573c9ba9",
   "metadata": {},
   "source": [
    "# Introduction to metabarcoding: DADA2 Tutorial"
   ]
  },
  {
   "cell_type": "markdown",
   "id": "88d41650-2eda-49f2-904f-92d07ce9060b",
   "metadata": {},
   "source": [
    "**Workshop led by: (Pedro E. Romero)** <br>\n",
    "**Assisted by: Boris ..., Camila Castillo-Vilcahuaman** <br>\n",
    "**Tutorial by: @reymonera (Camila Castillo-Vilcahuaman)**"
   ]
  },
  {
   "cell_type": "markdown",
   "id": "5d15815d-1022-4177-9e77-482d00d74f00",
   "metadata": {},
   "source": [
    "This is a tutorial with all the necessary commands for the use of the R package DADA2. All the analysis are done and exposed here with their respective figures. In this opportunity, we will use data from an already published study: Metabarcoding in the most important river in Lima, Peru: The Rimac river.\n",
    "\n",
    "This pipeline and tutorial is heavily based on another great bioinformatician's pipeline (Hi, @AstroBioMike!). If you want to learn more about this package, I highly suggest to visit this tutorial."
   ]
  },
  {
   "cell_type": "markdown",
   "id": "0785f618-f112-48d5-8c1d-d1f881e12a38",
   "metadata": {},
   "source": [
    "## 1. Getting to know the DADA2 package"
   ]
  },
  {
   "cell_type": "markdown",
   "id": "9fbe4edd-d9db-4e53-ae8e-125c1c9e9af2",
   "metadata": {},
   "source": [
    "First of all, we will get a first glance of how this environment stuff works. First of all, this is a Jupyter notebook. It is easier to show you guys how code works using these.\n",
    "However, for our workshop to work well, we will need to set everything up first. So, for this, we will proceed with the following code:"
   ]
  },
  {
   "cell_type": "markdown",
   "id": "7187c7fc-90ec-4bc8-9bbd-c44e156da91f",
   "metadata": {},
   "source": [
    "```\n",
    "conda env create -f dada2_env.yaml\n",
    "conda activate dada2_env\n",
    "python -m ipykernel install --user --name=dada2_env\n",
    "jupyter-notebook\n",
    "```"
   ]
  },
  {
   "cell_type": "markdown",
   "id": "70090723-cbe4-4a55-9c1b-3d94596aa508",
   "metadata": {},
   "source": [
    "Now, we will proceed with enabling R code in this notebook. As you've probably guessed, Jupyer mainly runs with python. But we can make our own stuff run here using the following command:"
   ]
  },
  {
   "cell_type": "code",
   "execution_count": 1,
   "id": "64bcbe8e-8484-40c6-b8ab-00edd30537d3",
   "metadata": {},
   "outputs": [
    {
     "name": "stderr",
     "output_type": "stream",
     "text": [
      "/home/marlen/miniforge3/envs/dada2_env/lib/python3.13/site-packages/rpy2/ipython/rmagic.py:85: UserWarning: The Python package `pandas` is strongly recommended when using `rpy2.ipython`. Unfortunately it could not be loaded, as we did not manage to load `numpy` in the first place (error: No module named 'numpy').\n",
      "  warnings.warn('The Python package `pandas` is strongly '\n"
     ]
    }
   ],
   "source": [
    "%load_ext rpy2.ipython"
   ]
  },
  {
   "cell_type": "markdown",
   "id": "59c95382-1848-49f6-8c55-8b076fb5ae29",
   "metadata": {},
   "source": [
    "Empezamos por descargar la información necesaria para nuestro análisis. Estaremos trabajando con la data del estudio de las comunidades microbianas presentes en el río Rímac. Para ello requeriremos descargarlas de la siguiente forma: \n",
    "- Primero, nos dirigimos a la pestaña “Terminal” de nuestro RStudio. Luego, pegaremos los siguientes comandos:"
   ]
  },
  {
   "cell_type": "code",
   "execution_count": null,
   "id": "8993b06c-0391-4e07-bf0c-c2564cdce92c",
   "metadata": {},
   "outputs": [],
   "source": [
    "!cd ~\n",
    "!curl -L -o dada2_amplicon_ex_workflow.tar.gz\n",
    "!https://ndownloader.figshare.com/files/28773936\n",
    "!tar -xzvf dada2_amplicon_ex_workflow.tar.gz\n",
    "!rm dada2_amplicon_ex_workflow.tar.gz\n",
    "!cd dada2_amplicon_ex_workflow/"
   ]
  },
  {
   "cell_type": "markdown",
   "id": "3031665c-95b7-4cd2-a88a-b0ca6d093c6f",
   "metadata": {},
   "source": [
    "Con el último comando, nos podremos ubicar dentro de la carpeta. Si le damos a `ls` podremos observar los nuevos archivos que hemos adquirido.\n",
    "\n",
    "- Ahora, requeriremos un listado de los archivos que tiene por nombre `samples` con la información de nombres de cada uno de los archivos. Esto hará más simple el moverse por los archivos, y facilitará varios aspectos relacionados al procesamiento. Estaremos llamando a estos archivos constantemente. Quedándonos en “Terminal”, ejecutamos el siguiente comando:"
   ]
  },
  {
   "cell_type": "code",
   "execution_count": null,
   "id": "282f7567-d2a3-4c9d-9471-85252cbed034",
   "metadata": {},
   "outputs": [],
   "source": [
    "!ls *_R1.fq | cut -f1 -d \"_\" > samples"
   ]
  },
  {
   "cell_type": "markdown",
   "id": "8fe4644a-bc32-4c2c-98e8-bc105f7d8431",
   "metadata": {},
   "source": [
    "- Toca hacerle un tratamiento a nuestros archivos de reads. Ello implica cortar los adaptadores con los que vienen por default. Eso lo podemos lograr con `cutadapt`. En nuestra terminal, ejecutamos el siguiente comando:"
   ]
  },
  {
   "cell_type": "code",
   "execution_count": null,
   "id": "d8919035-2ce6-4fd8-af94-972771577b38",
   "metadata": {},
   "outputs": [],
   "source": [
    "cutadapt --version # 2.3\n",
    "cutadapt -a ^GTGCCAGCMGCCGCGGTAA...ATTAGAWACCCBDGTAGTCC \\\n",
    "-A ^GGACTACHVGGGTWTCTAAT...TTACCGCGGCKGCTGGCAC \\\n",
    "-m 215 -M 285 --discard-untrimmed \\\n",
    "-o B1_sub_R1_trimmed.fq -p B1_sub_R2_trimmed.fq \\\n",
    "B1_sub_R1.fq B1_sub_R2.fq"
   ]
  },
  {
   "cell_type": "markdown",
   "id": "9c1770c6-3f09-43c0-99f3-f0f1a721074d",
   "metadata": {},
   "source": [
    "Y ejecutaremos `cutadapt` para B1. Si deseamos ejecutar cutadapt para el resto de nuestras\n",
    "muestras, lo mejor será utilizar un artilugio del lenguaje Bash:"
   ]
  },
  {
   "cell_type": "code",
   "execution_count": null,
   "id": "c455228d-5715-4b22-8ebe-963e685570d6",
   "metadata": {},
   "outputs": [],
   "source": [
    "!for sample in $(cat samples)\n",
    "!do\n",
    "    !echo \"On sample: $sample\"\n",
    "\n",
    "    !cutadapt -a ^GTGCCAGCMGCCGCGGTAA...ATTAGAWACCCBDGTAGTCC \\\n",
    "    -A ^GGACTACHVGGGTWTCTAAT...TTACCGCGGCKGCTGGCAC \\\n",
    "    -m 215 -M 285 --discard-untrimmed \\\n",
    "    -o ${sample}_sub_R1_trimmed.fq.gz -p ${sample}_sub_R2_trimmed.fq.gz \\\n",
    "    ${sample}_sub_R1.fq ${sample}_sub_R2.fq \\\n",
    "    >> cutadapt_primer_trimming_stats.txt 2>&1\n",
    "!done"
   ]
  },
  {
   "cell_type": "markdown",
   "id": "d66b998b-2db6-4416-af73-18851ca02cda",
   "metadata": {},
   "source": [
    "Esto terminará por realizar el tratamiento en nuestra data. Ahora sí, podremos dirigirnos a la consola de R y empezar a poner todo en orden. Primero, señalamos en donde nos vamos a quedar y cuál será nuestro espacio de trabajo:"
   ]
  },
  {
   "cell_type": "code",
   "execution_count": 2,
   "id": "8de71057-0b94-410f-9ff6-5704164e197d",
   "metadata": {},
   "outputs": [
    {
     "name": "stdout",
     "output_type": "stream",
     "text": [
      "[1] \"/home/marlen/gitrepos/dada2_msm-course-2024\"\n"
     ]
    }
   ],
   "source": [
    "%%R\n",
    "getwd()\n",
    "setwd(\"~/dada2_amplicon_ex_workflow\")"
   ]
  },
  {
   "cell_type": "code",
   "execution_count": 10,
   "id": "41222cba-0342-4b85-8057-e9dd494200a0",
   "metadata": {},
   "outputs": [
    {
     "name": "stdout",
     "output_type": "stream",
     "text": [
      "[1] ‘1.30.0’\n"
     ]
    }
   ],
   "source": [
    "%%R\n",
    "library(dada2)\n",
    "packageVersion(\"dada2\")"
   ]
  },
  {
   "cell_type": "markdown",
   "id": "1b92916e-ae7a-4dda-b3e0-33aea5f76d15",
   "metadata": {},
   "source": [
    "Crea una variable llamada `samples`"
   ]
  },
  {
   "cell_type": "code",
   "execution_count": null,
   "id": "f0e162cd-2e2c-4f4c-8306-958a4422104f",
   "metadata": {},
   "outputs": [],
   "source": [
    "%%R\n",
    "samples <- scan(\"samples\", what=\"character\")\n",
    "list.files()"
   ]
  }
 ],
 "metadata": {
  "kernelspec": {
   "display_name": "dada2_env",
   "language": "python",
   "name": "dada2_env"
  },
  "language_info": {
   "codemirror_mode": {
    "name": "ipython",
    "version": 3
   },
   "file_extension": ".py",
   "mimetype": "text/x-python",
   "name": "python",
   "nbconvert_exporter": "python",
   "pygments_lexer": "ipython3",
   "version": "3.13.0"
  }
 },
 "nbformat": 4,
 "nbformat_minor": 5
}
